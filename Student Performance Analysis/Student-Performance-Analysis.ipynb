{
 "cells": [
  {
   "cell_type": "markdown",
   "id": "635cfaf7",
   "metadata": {},
   "source": [
    "## Student Performance Analysis"
   ]
  },
  {
   "cell_type": "code",
   "execution_count": 3,
   "id": "bd72c1e8",
   "metadata": {},
   "outputs": [
    {
     "name": "stdout",
     "output_type": "stream",
     "text": [
      "Requirement already satisfied: dabl in c:\\programdata\\anaconda3\\lib\\site-packages (0.2.2)\n",
      "Requirement already satisfied: seaborn in c:\\programdata\\anaconda3\\lib\\site-packages (from dabl) (0.11.1)\n",
      "Requirement already satisfied: numpy in c:\\programdata\\anaconda3\\lib\\site-packages (from dabl) (1.20.1)\n",
      "Requirement already satisfied: matplotlib in c:\\programdata\\anaconda3\\lib\\site-packages (from dabl) (3.3.4)\n",
      "Requirement already satisfied: pandas in c:\\programdata\\anaconda3\\lib\\site-packages (from dabl) (1.2.4)\n",
      "Requirement already satisfied: scikit-learn>=0.24.0 in c:\\programdata\\anaconda3\\lib\\site-packages (from dabl) (0.24.1)\n",
      "Requirement already satisfied: scipy in c:\\programdata\\anaconda3\\lib\\site-packages (from dabl) (1.6.2)\n",
      "Requirement already satisfied: joblib>=0.11 in c:\\programdata\\anaconda3\\lib\\site-packages (from scikit-learn>=0.24.0->dabl) (1.0.1)\n",
      "Requirement already satisfied: threadpoolctl>=2.0.0 in c:\\programdata\\anaconda3\\lib\\site-packages (from scikit-learn>=0.24.0->dabl) (2.1.0)\n",
      "Requirement already satisfied: pyparsing!=2.0.4,!=2.1.2,!=2.1.6,>=2.0.3 in c:\\programdata\\anaconda3\\lib\\site-packages (from matplotlib->dabl) (2.4.7)\n",
      "Requirement already satisfied: pillow>=6.2.0 in c:\\programdata\\anaconda3\\lib\\site-packages (from matplotlib->dabl) (8.2.0)\n",
      "Requirement already satisfied: python-dateutil>=2.1 in c:\\programdata\\anaconda3\\lib\\site-packages (from matplotlib->dabl) (2.8.1)\n",
      "Requirement already satisfied: cycler>=0.10 in c:\\programdata\\anaconda3\\lib\\site-packages (from matplotlib->dabl) (0.10.0)\n",
      "Requirement already satisfied: kiwisolver>=1.0.1 in c:\\programdata\\anaconda3\\lib\\site-packages (from matplotlib->dabl) (1.3.1)\n",
      "Requirement already satisfied: six in c:\\programdata\\anaconda3\\lib\\site-packages (from cycler>=0.10->matplotlib->dabl) (1.15.0)\n",
      "Requirement already satisfied: pytz>=2017.3 in c:\\programdata\\anaconda3\\lib\\site-packages (from pandas->dabl) (2021.1)\n"
     ]
    }
   ],
   "source": [
    "## import the dependencies\n",
    "\n",
    "import numpy as np\n",
    "import pandas as pd\n",
    "import matplotlib.pyplot as plt\n",
    "import seaborn as sns\n",
    "\n",
    "!pip install dabl\n",
    "\n",
    "import dabl\n",
    "\n",
    "import sys\n",
    "\n",
    "if not sys.warnoptions:\n",
    "    import warnings\n",
    "    warnings.simplefilter(\"ignore\")"
   ]
  },
  {
   "cell_type": "markdown",
   "id": "1667eb1d",
   "metadata": {},
   "source": [
    "#### Reading the dataset"
   ]
  },
  {
   "cell_type": "code",
   "execution_count": 4,
   "id": "d5760c8f",
   "metadata": {},
   "outputs": [
    {
     "ename": "FileNotFoundError",
     "evalue": "[Errno 2] No such file or directory: 'Student Performance Analysis/Data/StudentsPerformance.csv'",
     "output_type": "error",
     "traceback": [
      "\u001b[1;31m---------------------------------------------------------------------------\u001b[0m",
      "\u001b[1;31mFileNotFoundError\u001b[0m                         Traceback (most recent call last)",
      "\u001b[1;32m<ipython-input-4-ab544a0b2871>\u001b[0m in \u001b[0;36m<module>\u001b[1;34m\u001b[0m\n\u001b[1;32m----> 1\u001b[1;33m \u001b[0mdata\u001b[0m \u001b[1;33m=\u001b[0m \u001b[0mpd\u001b[0m\u001b[1;33m.\u001b[0m\u001b[0mread_csv\u001b[0m\u001b[1;33m(\u001b[0m\u001b[1;34m'Student Performance Analysis/Data/StudentsPerformance.csv'\u001b[0m\u001b[1;33m)\u001b[0m\u001b[1;33m\u001b[0m\u001b[1;33m\u001b[0m\u001b[0m\n\u001b[0m",
      "\u001b[1;32mC:\\ProgramData\\Anaconda3\\lib\\site-packages\\pandas\\io\\parsers.py\u001b[0m in \u001b[0;36mread_csv\u001b[1;34m(filepath_or_buffer, sep, delimiter, header, names, index_col, usecols, squeeze, prefix, mangle_dupe_cols, dtype, engine, converters, true_values, false_values, skipinitialspace, skiprows, skipfooter, nrows, na_values, keep_default_na, na_filter, verbose, skip_blank_lines, parse_dates, infer_datetime_format, keep_date_col, date_parser, dayfirst, cache_dates, iterator, chunksize, compression, thousands, decimal, lineterminator, quotechar, quoting, doublequote, escapechar, comment, encoding, dialect, error_bad_lines, warn_bad_lines, delim_whitespace, low_memory, memory_map, float_precision, storage_options)\u001b[0m\n\u001b[0;32m    608\u001b[0m     \u001b[0mkwds\u001b[0m\u001b[1;33m.\u001b[0m\u001b[0mupdate\u001b[0m\u001b[1;33m(\u001b[0m\u001b[0mkwds_defaults\u001b[0m\u001b[1;33m)\u001b[0m\u001b[1;33m\u001b[0m\u001b[1;33m\u001b[0m\u001b[0m\n\u001b[0;32m    609\u001b[0m \u001b[1;33m\u001b[0m\u001b[0m\n\u001b[1;32m--> 610\u001b[1;33m     \u001b[1;32mreturn\u001b[0m \u001b[0m_read\u001b[0m\u001b[1;33m(\u001b[0m\u001b[0mfilepath_or_buffer\u001b[0m\u001b[1;33m,\u001b[0m \u001b[0mkwds\u001b[0m\u001b[1;33m)\u001b[0m\u001b[1;33m\u001b[0m\u001b[1;33m\u001b[0m\u001b[0m\n\u001b[0m\u001b[0;32m    611\u001b[0m \u001b[1;33m\u001b[0m\u001b[0m\n\u001b[0;32m    612\u001b[0m \u001b[1;33m\u001b[0m\u001b[0m\n",
      "\u001b[1;32mC:\\ProgramData\\Anaconda3\\lib\\site-packages\\pandas\\io\\parsers.py\u001b[0m in \u001b[0;36m_read\u001b[1;34m(filepath_or_buffer, kwds)\u001b[0m\n\u001b[0;32m    460\u001b[0m \u001b[1;33m\u001b[0m\u001b[0m\n\u001b[0;32m    461\u001b[0m     \u001b[1;31m# Create the parser.\u001b[0m\u001b[1;33m\u001b[0m\u001b[1;33m\u001b[0m\u001b[1;33m\u001b[0m\u001b[0m\n\u001b[1;32m--> 462\u001b[1;33m     \u001b[0mparser\u001b[0m \u001b[1;33m=\u001b[0m \u001b[0mTextFileReader\u001b[0m\u001b[1;33m(\u001b[0m\u001b[0mfilepath_or_buffer\u001b[0m\u001b[1;33m,\u001b[0m \u001b[1;33m**\u001b[0m\u001b[0mkwds\u001b[0m\u001b[1;33m)\u001b[0m\u001b[1;33m\u001b[0m\u001b[1;33m\u001b[0m\u001b[0m\n\u001b[0m\u001b[0;32m    463\u001b[0m \u001b[1;33m\u001b[0m\u001b[0m\n\u001b[0;32m    464\u001b[0m     \u001b[1;32mif\u001b[0m \u001b[0mchunksize\u001b[0m \u001b[1;32mor\u001b[0m \u001b[0miterator\u001b[0m\u001b[1;33m:\u001b[0m\u001b[1;33m\u001b[0m\u001b[1;33m\u001b[0m\u001b[0m\n",
      "\u001b[1;32mC:\\ProgramData\\Anaconda3\\lib\\site-packages\\pandas\\io\\parsers.py\u001b[0m in \u001b[0;36m__init__\u001b[1;34m(self, f, engine, **kwds)\u001b[0m\n\u001b[0;32m    817\u001b[0m             \u001b[0mself\u001b[0m\u001b[1;33m.\u001b[0m\u001b[0moptions\u001b[0m\u001b[1;33m[\u001b[0m\u001b[1;34m\"has_index_names\"\u001b[0m\u001b[1;33m]\u001b[0m \u001b[1;33m=\u001b[0m \u001b[0mkwds\u001b[0m\u001b[1;33m[\u001b[0m\u001b[1;34m\"has_index_names\"\u001b[0m\u001b[1;33m]\u001b[0m\u001b[1;33m\u001b[0m\u001b[1;33m\u001b[0m\u001b[0m\n\u001b[0;32m    818\u001b[0m \u001b[1;33m\u001b[0m\u001b[0m\n\u001b[1;32m--> 819\u001b[1;33m         \u001b[0mself\u001b[0m\u001b[1;33m.\u001b[0m\u001b[0m_engine\u001b[0m \u001b[1;33m=\u001b[0m \u001b[0mself\u001b[0m\u001b[1;33m.\u001b[0m\u001b[0m_make_engine\u001b[0m\u001b[1;33m(\u001b[0m\u001b[0mself\u001b[0m\u001b[1;33m.\u001b[0m\u001b[0mengine\u001b[0m\u001b[1;33m)\u001b[0m\u001b[1;33m\u001b[0m\u001b[1;33m\u001b[0m\u001b[0m\n\u001b[0m\u001b[0;32m    820\u001b[0m \u001b[1;33m\u001b[0m\u001b[0m\n\u001b[0;32m    821\u001b[0m     \u001b[1;32mdef\u001b[0m \u001b[0mclose\u001b[0m\u001b[1;33m(\u001b[0m\u001b[0mself\u001b[0m\u001b[1;33m)\u001b[0m\u001b[1;33m:\u001b[0m\u001b[1;33m\u001b[0m\u001b[1;33m\u001b[0m\u001b[0m\n",
      "\u001b[1;32mC:\\ProgramData\\Anaconda3\\lib\\site-packages\\pandas\\io\\parsers.py\u001b[0m in \u001b[0;36m_make_engine\u001b[1;34m(self, engine)\u001b[0m\n\u001b[0;32m   1048\u001b[0m             )\n\u001b[0;32m   1049\u001b[0m         \u001b[1;31m# error: Too many arguments for \"ParserBase\"\u001b[0m\u001b[1;33m\u001b[0m\u001b[1;33m\u001b[0m\u001b[1;33m\u001b[0m\u001b[0m\n\u001b[1;32m-> 1050\u001b[1;33m         \u001b[1;32mreturn\u001b[0m \u001b[0mmapping\u001b[0m\u001b[1;33m[\u001b[0m\u001b[0mengine\u001b[0m\u001b[1;33m]\u001b[0m\u001b[1;33m(\u001b[0m\u001b[0mself\u001b[0m\u001b[1;33m.\u001b[0m\u001b[0mf\u001b[0m\u001b[1;33m,\u001b[0m \u001b[1;33m**\u001b[0m\u001b[0mself\u001b[0m\u001b[1;33m.\u001b[0m\u001b[0moptions\u001b[0m\u001b[1;33m)\u001b[0m  \u001b[1;31m# type: ignore[call-arg]\u001b[0m\u001b[1;33m\u001b[0m\u001b[1;33m\u001b[0m\u001b[0m\n\u001b[0m\u001b[0;32m   1051\u001b[0m \u001b[1;33m\u001b[0m\u001b[0m\n\u001b[0;32m   1052\u001b[0m     \u001b[1;32mdef\u001b[0m \u001b[0m_failover_to_python\u001b[0m\u001b[1;33m(\u001b[0m\u001b[0mself\u001b[0m\u001b[1;33m)\u001b[0m\u001b[1;33m:\u001b[0m\u001b[1;33m\u001b[0m\u001b[1;33m\u001b[0m\u001b[0m\n",
      "\u001b[1;32mC:\\ProgramData\\Anaconda3\\lib\\site-packages\\pandas\\io\\parsers.py\u001b[0m in \u001b[0;36m__init__\u001b[1;34m(self, src, **kwds)\u001b[0m\n\u001b[0;32m   1865\u001b[0m \u001b[1;33m\u001b[0m\u001b[0m\n\u001b[0;32m   1866\u001b[0m         \u001b[1;31m# open handles\u001b[0m\u001b[1;33m\u001b[0m\u001b[1;33m\u001b[0m\u001b[1;33m\u001b[0m\u001b[0m\n\u001b[1;32m-> 1867\u001b[1;33m         \u001b[0mself\u001b[0m\u001b[1;33m.\u001b[0m\u001b[0m_open_handles\u001b[0m\u001b[1;33m(\u001b[0m\u001b[0msrc\u001b[0m\u001b[1;33m,\u001b[0m \u001b[0mkwds\u001b[0m\u001b[1;33m)\u001b[0m\u001b[1;33m\u001b[0m\u001b[1;33m\u001b[0m\u001b[0m\n\u001b[0m\u001b[0;32m   1868\u001b[0m         \u001b[1;32massert\u001b[0m \u001b[0mself\u001b[0m\u001b[1;33m.\u001b[0m\u001b[0mhandles\u001b[0m \u001b[1;32mis\u001b[0m \u001b[1;32mnot\u001b[0m \u001b[1;32mNone\u001b[0m\u001b[1;33m\u001b[0m\u001b[1;33m\u001b[0m\u001b[0m\n\u001b[0;32m   1869\u001b[0m         \u001b[1;32mfor\u001b[0m \u001b[0mkey\u001b[0m \u001b[1;32min\u001b[0m \u001b[1;33m(\u001b[0m\u001b[1;34m\"storage_options\"\u001b[0m\u001b[1;33m,\u001b[0m \u001b[1;34m\"encoding\"\u001b[0m\u001b[1;33m,\u001b[0m \u001b[1;34m\"memory_map\"\u001b[0m\u001b[1;33m,\u001b[0m \u001b[1;34m\"compression\"\u001b[0m\u001b[1;33m)\u001b[0m\u001b[1;33m:\u001b[0m\u001b[1;33m\u001b[0m\u001b[1;33m\u001b[0m\u001b[0m\n",
      "\u001b[1;32mC:\\ProgramData\\Anaconda3\\lib\\site-packages\\pandas\\io\\parsers.py\u001b[0m in \u001b[0;36m_open_handles\u001b[1;34m(self, src, kwds)\u001b[0m\n\u001b[0;32m   1360\u001b[0m         \u001b[0mLet\u001b[0m \u001b[0mthe\u001b[0m \u001b[0mreaders\u001b[0m \u001b[0mopen\u001b[0m \u001b[0mIOHanldes\u001b[0m \u001b[0mafter\u001b[0m \u001b[0mthey\u001b[0m \u001b[0mare\u001b[0m \u001b[0mdone\u001b[0m \u001b[1;32mwith\u001b[0m \u001b[0mtheir\u001b[0m \u001b[0mpotential\u001b[0m \u001b[0mraises\u001b[0m\u001b[1;33m.\u001b[0m\u001b[1;33m\u001b[0m\u001b[1;33m\u001b[0m\u001b[0m\n\u001b[0;32m   1361\u001b[0m         \"\"\"\n\u001b[1;32m-> 1362\u001b[1;33m         self.handles = get_handle(\n\u001b[0m\u001b[0;32m   1363\u001b[0m             \u001b[0msrc\u001b[0m\u001b[1;33m,\u001b[0m\u001b[1;33m\u001b[0m\u001b[1;33m\u001b[0m\u001b[0m\n\u001b[0;32m   1364\u001b[0m             \u001b[1;34m\"r\"\u001b[0m\u001b[1;33m,\u001b[0m\u001b[1;33m\u001b[0m\u001b[1;33m\u001b[0m\u001b[0m\n",
      "\u001b[1;32mC:\\ProgramData\\Anaconda3\\lib\\site-packages\\pandas\\io\\common.py\u001b[0m in \u001b[0;36mget_handle\u001b[1;34m(path_or_buf, mode, encoding, compression, memory_map, is_text, errors, storage_options)\u001b[0m\n\u001b[0;32m    640\u001b[0m                 \u001b[0merrors\u001b[0m \u001b[1;33m=\u001b[0m \u001b[1;34m\"replace\"\u001b[0m\u001b[1;33m\u001b[0m\u001b[1;33m\u001b[0m\u001b[0m\n\u001b[0;32m    641\u001b[0m             \u001b[1;31m# Encoding\u001b[0m\u001b[1;33m\u001b[0m\u001b[1;33m\u001b[0m\u001b[1;33m\u001b[0m\u001b[0m\n\u001b[1;32m--> 642\u001b[1;33m             handle = open(\n\u001b[0m\u001b[0;32m    643\u001b[0m                 \u001b[0mhandle\u001b[0m\u001b[1;33m,\u001b[0m\u001b[1;33m\u001b[0m\u001b[1;33m\u001b[0m\u001b[0m\n\u001b[0;32m    644\u001b[0m                 \u001b[0mioargs\u001b[0m\u001b[1;33m.\u001b[0m\u001b[0mmode\u001b[0m\u001b[1;33m,\u001b[0m\u001b[1;33m\u001b[0m\u001b[1;33m\u001b[0m\u001b[0m\n",
      "\u001b[1;31mFileNotFoundError\u001b[0m: [Errno 2] No such file or directory: 'Student Performance Analysis/Data/StudentsPerformance.csv'"
     ]
    }
   ],
   "source": [
    "data = pd.read_csv('Student Performance Analysis/Data/StudentsPerformance.csv')"
   ]
  },
  {
   "cell_type": "code",
   "execution_count": null,
   "id": "189dfebf",
   "metadata": {},
   "outputs": [],
   "source": [
    "data.head()"
   ]
  },
  {
   "cell_type": "code",
   "execution_count": null,
   "id": "cf989194",
   "metadata": {},
   "outputs": [],
   "source": [
    "## getting the shape of the data\n",
    "\n",
    "data.shape"
   ]
  },
  {
   "cell_type": "markdown",
   "id": "faac1829",
   "metadata": {},
   "source": [
    "-- 1000 Rows\n",
    "\n",
    "-- 8 Cols"
   ]
  },
  {
   "cell_type": "markdown",
   "id": "b8314217",
   "metadata": {},
   "source": [
    "### Descriptive Statistics "
   ]
  },
  {
   "cell_type": "code",
   "execution_count": null,
   "id": "b45f5e71",
   "metadata": {},
   "outputs": [],
   "source": [
    "## Statistical information \n",
    "\n",
    "data.describe()"
   ]
  },
  {
   "cell_type": "code",
   "execution_count": null,
   "id": "43e81d4e",
   "metadata": {},
   "outputs": [],
   "source": [
    "## data types of the data \n",
    "\n",
    "data.info()"
   ]
  },
  {
   "cell_type": "code",
   "execution_count": null,
   "id": "8a216a12",
   "metadata": {},
   "outputs": [],
   "source": [
    "## Let's check the no. of unique items present in the categorical columns \n",
    "\n",
    "data.select_dtypes('object').nunique()"
   ]
  },
  {
   "cell_type": "code",
   "execution_count": null,
   "id": "5de5d572",
   "metadata": {},
   "outputs": [],
   "source": [
    "## Let's check for the no. of unique itmes in the numerical columns \n",
    "\n",
    "data.select_dtypes('int64').nunique()"
   ]
  },
  {
   "cell_type": "code",
   "execution_count": null,
   "id": "1414c352",
   "metadata": {},
   "outputs": [],
   "source": [
    "## Let's check the missing data of the datasets\n",
    "\n",
    "data.isnull().sum()"
   ]
  },
  {
   "cell_type": "code",
   "execution_count": null,
   "id": "c72c4326",
   "metadata": {},
   "outputs": [],
   "source": [
    "data.isna().any()"
   ]
  },
  {
   "cell_type": "code",
   "execution_count": null,
   "id": "994f700a",
   "metadata": {},
   "outputs": [],
   "source": [
    "data.columns"
   ]
  },
  {
   "cell_type": "code",
   "execution_count": null,
   "id": "ab0fbcd5",
   "metadata": {},
   "outputs": [],
   "source": [
    "## Comparison of all other attributes with respect to Math Marks \n",
    "\n",
    "plt.rcParams['figure.figsize'] = (15,6)\n",
    "plt.style.use('fivethirtyeight')\n",
    "dabl.plot(data, target_col = 'math score');"
   ]
  },
  {
   "cell_type": "code",
   "execution_count": null,
   "id": "baf7c23e",
   "metadata": {},
   "outputs": [],
   "source": [
    "## Comparison of all other attributes with respect to Reading Marks \n",
    "\n",
    "plt.rcParams['figure.figsize'] = (10,6)\n",
    "plt.style.use('fivethirtyeight')\n",
    "dabl.plot(data, target_col = 'reading score');"
   ]
  },
  {
   "cell_type": "code",
   "execution_count": null,
   "id": "16026913",
   "metadata": {},
   "outputs": [],
   "source": [
    "## Comparison of all other attributes with respect to Writing Marks \n",
    "\n",
    "plt.rcParams['figure.figsize'] = (10,6)\n",
    "plt.style.use('fivethirtyeight')\n",
    "dabl.plot(data, target_col= 'writing score');"
   ]
  },
  {
   "cell_type": "markdown",
   "id": "48113a8b",
   "metadata": {},
   "source": [
    "### Inferential Statistics \n",
    "\n",
    "** Let's check the probability of Students scoring More than 50 Marks **"
   ]
  },
  {
   "cell_type": "code",
   "execution_count": null,
   "id": "5b61c948",
   "metadata": {},
   "outputs": [],
   "source": [
    "total_students = data.shape[0]\n",
    "student_score_more_50_marks = data[data['math score']> 50].shape[0]\n",
    "probability_of_students_scoring_more_than_50_marks = (student_score_more_50_marks/total_students)*100\n",
    "print(\"Probability of students scoring more than 50 marks in Maths :\",  probability_of_students_scoring_more_than_50_marks)"
   ]
  },
  {
   "cell_type": "code",
   "execution_count": null,
   "id": "3bacab63",
   "metadata": {},
   "outputs": [],
   "source": [
    "total_students = data.shape[0]\n",
    "students_score_more_than_50_marks = data[data['reading score'] > 50].shape[0]\n",
    "probability_of_students_scoring_more_than_50_marks = (students_score_more_than_50_marks/total_students) * 100\n",
    "print(\"Probability of students scoring more than 50 marks in Reading :\", probability_of_students_scoring_more_than_50_marks )"
   ]
  },
  {
   "cell_type": "code",
   "execution_count": null,
   "id": "55394ba2",
   "metadata": {},
   "outputs": [],
   "source": [
    "total_students = data.shape[0]\n",
    "students_score_more_than_50_marks_writing = data[data['writing score'] > 50].shape[0]\n",
    "probability_of_more_than_50_marks_writing_score = (students_score_more_than_50_marks_writing/total_students) * 100\n",
    "print(\"probability of the students scoring more than 50 marks in writing :\", probability_of_more_than_50_marks_writing_score)"
   ]
  },
  {
   "cell_type": "markdown",
   "id": "2ba127dd",
   "metadata": {},
   "source": [
    "** Let's check the probability of Students scoring More than 80 Marks **"
   ]
  },
  {
   "cell_type": "code",
   "execution_count": null,
   "id": "a0d45090",
   "metadata": {},
   "outputs": [],
   "source": [
    "total_students = data.shape[0]\n",
    "students_scoreing_marks_more_than_80 = data[data['math score'] > 80].shape[0]\n",
    "probability_of_students_scoring_more_than_80 = (students_scoreing_marks_more_than_80/total_students) * 100\n",
    "print(\"Probability of the students scoring the marks more than 80 in Maths :\", probability_of_students_scoring_more_than_80)"
   ]
  },
  {
   "cell_type": "code",
   "execution_count": null,
   "id": "b134ea86",
   "metadata": {},
   "outputs": [],
   "source": [
    "total_students = data.shape[0]\n",
    "students_scoring_marks_more_than_80_in_reading = data[data['reading score']> 80].shape[0]\n",
    "probability_of_students_scoring_more_than_80_reading = (students_scoring_marks_more_than_80_in_reading/total_students)*100\n",
    "print(\"Probability of the students scoring the marks more than 80 in reading: \",  probability_of_students_scoring_more_than_80_reading)"
   ]
  },
  {
   "cell_type": "code",
   "execution_count": null,
   "id": "d7d15944",
   "metadata": {},
   "outputs": [],
   "source": [
    "total_students = data.shape[0]\n",
    "students_scoring_marks_more_than_80_in_writing = data[data['writing score']>80].shape[0]\n",
    "probability_of_students_scoring_more_than_80_reading = (students_scoring_marks_more_than_80_in_writing/total_students) * 100\n",
    "print(\"Probability of the students scoring marks more than 80 in reading :\", probability_of_students_scoring_more_than_80_reading)"
   ]
  },
  {
   "cell_type": "markdown",
   "id": "bd2418e8",
   "metadata": {},
   "source": [
    "** Let's Check the Probability of students passing in all subjects **"
   ]
  },
  {
   "cell_type": "code",
   "execution_count": null,
   "id": "328625f2",
   "metadata": {},
   "outputs": [],
   "source": [
    "total_students = data.shape[0]\n",
    "pass_students = data[(data['math score']>40) &\n",
    "                    (data['writing score']>40) &\n",
    "                    (data['reading score']>40)].shape[0]\n",
    "probability_of_pass_students = (pass_students/total_students) * 100\n",
    "print(\"Probability of passing students {0:.2f} %\".format(probability_of_pass_students))"
   ]
  },
  {
   "cell_type": "markdown",
   "id": "eb3be04e",
   "metadata": {},
   "source": [
    "** Let's Check the probability of students who not passed in subjectts **"
   ]
  },
  {
   "cell_type": "code",
   "execution_count": null,
   "id": "396384f3",
   "metadata": {},
   "outputs": [],
   "source": [
    "total_students = data.shape[0]\n",
    "not_pass_students = data[(data['math score'] < 40)&\n",
    "                         (data['reading score'] < 40) &\n",
    "                         (data['writing score'] < 40)].shape[0]\n",
    "probability_of_not_pass_students = (not_pass_students/total_students) * 100\n",
    "print(\"Probability of not passed students are {0:.2f} %\".format(probability_of_not_pass_students))\n",
    "                        "
   ]
  },
  {
   "cell_type": "markdown",
   "id": "1edbc8b4",
   "metadata": {},
   "source": [
    "** Let's Check the probability of students scoring more than 90 in all the area's ** "
   ]
  },
  {
   "cell_type": "code",
   "execution_count": null,
   "id": "0f448e7e",
   "metadata": {},
   "outputs": [],
   "source": [
    "total_students = data.shape[0]\n",
    "students_scoring_more_than_90 = data[(data['math score'] > 90) &\n",
    "                                    (data['reading score'] > 90) &\n",
    "                                    (data['writing score'] > 90)].shape[0]\n",
    "probability_students_scoring_more_than_90 = (students_scoring_more_than_90/total_students) * 100\n",
    "print(\"Probability of Students Scoring more than 90 score in all subjects {0:.2f} %\".format(students_scoring_more_than_90))"
   ]
  },
  {
   "cell_type": "markdown",
   "id": "2810ddb0",
   "metadata": {},
   "source": [
    "** Skewness of the Maths, Reading And Writing Scores **"
   ]
  },
  {
   "cell_type": "code",
   "execution_count": null,
   "id": "76a1208b",
   "metadata": {},
   "outputs": [],
   "source": [
    "plt.subplot(1,3,1)\n",
    "sns.distplot(data['math score']);\n",
    "\n",
    "plt.subplot(1,3,2)\n",
    "sns.distplot(data['reading score']);\n",
    "\n",
    "plt.subplot(1,3,3)\n",
    "sns.distplot(data['writing score']);\n",
    "\n",
    "plt.suptitle('Skewness of Subjects Score', fontsize =18);"
   ]
  },
  {
   "cell_type": "markdown",
   "id": "232286fa",
   "metadata": {},
   "source": [
    "- It's very clear , that there is no skewness in the target columns"
   ]
  },
  {
   "cell_type": "markdown",
   "id": "726e7a5a",
   "metadata": {},
   "source": [
    "### Grouping Operations \n",
    "\n",
    "Number of Girl students Scoring 90 in all Subjects "
   ]
  },
  {
   "cell_type": "code",
   "execution_count": null,
   "id": "a7c1e0c3",
   "metadata": {},
   "outputs": [],
   "source": [
    "data[(data['gender']==\"female\") &\n",
    "    (data['math score']> 90) &\n",
    "    (data['writing score']>90) &\n",
    "    (data['reading score']>90)]"
   ]
  },
  {
   "cell_type": "markdown",
   "id": "c04eaf96",
   "metadata": {},
   "source": [
    "Number of boys students scoring 90 in all subjects "
   ]
  },
  {
   "cell_type": "code",
   "execution_count": null,
   "id": "b69d6fdf",
   "metadata": {},
   "outputs": [],
   "source": [
    "data[(data['gender']=='male')&\n",
    "    (data['math score']>90)&\n",
    "    (data['writing score']>90)&\n",
    "    (data['reading score']>90)]"
   ]
  },
  {
   "cell_type": "markdown",
   "id": "50827488",
   "metadata": {},
   "source": [
    "#### Let's compare the scores of Boys  And Girls"
   ]
  },
  {
   "cell_type": "code",
   "execution_count": null,
   "id": "a7083e7f",
   "metadata": {},
   "outputs": [],
   "source": [
    "data.groupby(['gender']).agg(['min','median','max'])"
   ]
  },
  {
   "cell_type": "markdown",
   "id": "584ea063",
   "metadata": {},
   "source": [
    "#### Let's check the effect of lunch on students's Performance"
   ]
  },
  {
   "cell_type": "code",
   "execution_count": null,
   "id": "5c1509c6",
   "metadata": {},
   "outputs": [],
   "source": [
    "data[['lunch','gender','math score','writing score', 'reading score']].groupby(['lunch','gender']).agg('median')"
   ]
  },
  {
   "cell_type": "markdown",
   "id": "f5d113eb",
   "metadata": {},
   "source": [
    "#### Let's check the effect of Test Preparation Course on Scores "
   ]
  },
  {
   "cell_type": "code",
   "execution_count": null,
   "id": "d4420648",
   "metadata": {},
   "outputs": [],
   "source": [
    "data[['test preparation course',\n",
    "     'gender',\n",
    "     'math score',\n",
    "     'writing score',\n",
    "     'reading score']].groupby(['test preparation course','gender']).agg('median')"
   ]
  },
  {
   "cell_type": "markdown",
   "id": "203458f7",
   "metadata": {},
   "source": [
    "#### Let's Check the effect of ethnicity on Student's Performance"
   ]
  },
  {
   "cell_type": "code",
   "execution_count": null,
   "id": "f72b12c8",
   "metadata": {},
   "outputs": [],
   "source": [
    "data[['race/ethnicity',\n",
    "     'math score',\n",
    "     'reading score',\n",
    "     'writing score']].groupby(['race/ethnicity']).agg('median')"
   ]
  },
  {
   "cell_type": "markdown",
   "id": "35a05430",
   "metadata": {},
   "source": [
    "\"Group E\" scores for all three area's are higher than the other groups "
   ]
  },
  {
   "cell_type": "code",
   "execution_count": null,
   "id": "7482e0ac",
   "metadata": {},
   "outputs": [],
   "source": [
    "data.columns"
   ]
  },
  {
   "cell_type": "markdown",
   "id": "5ccecab3",
   "metadata": {},
   "source": [
    "#### Let's Check the effect of parental education level on student performance "
   ]
  },
  {
   "cell_type": "code",
   "execution_count": null,
   "id": "0b5eead8",
   "metadata": {},
   "outputs": [],
   "source": [
    "data[['parental level of education',\n",
    "     'gender',\n",
    "     'math score',\n",
    "     'reading score',\n",
    "     'writing score']].groupby(['parental level of education','gender']).agg('median')"
   ]
  },
  {
   "cell_type": "code",
   "execution_count": null,
   "id": "b4a1f1fe",
   "metadata": {},
   "outputs": [],
   "source": [
    "data[['parental level of education',\n",
    "     'math score',\n",
    "     'reading score',\n",
    "     'writing score']].groupby(['parental level of education']).agg('median')"
   ]
  },
  {
   "cell_type": "markdown",
   "id": "d4bc4ad2",
   "metadata": {},
   "source": [
    "\"Masters Degree and Bachelor's Degree\" parental level of education has good student performance than the other levels of parental education."
   ]
  },
  {
   "cell_type": "markdown",
   "id": "2381a6ab",
   "metadata": {},
   "source": [
    "## Data Visualizations "
   ]
  },
  {
   "cell_type": "markdown",
   "id": "aa52527c",
   "metadata": {},
   "source": [
    "-Visualising the number of male and female in the dataset \n"
   ]
  },
  {
   "cell_type": "code",
   "execution_count": null,
   "id": "e709591b",
   "metadata": {},
   "outputs": [],
   "source": [
    "plt.rcParams['figure.figsize'] = (10,6)\n",
    "plt.style.use('ggplot')\n",
    "sns.countplot(data['gender'], palette = 'bone')\n",
    "plt.title('Comparison of Males and Females', fontweight=30)\n",
    "plt.xlabel('Gender')\n",
    "plt.ylabel('Count')\n",
    "plt.show();"
   ]
  },
  {
   "cell_type": "markdown",
   "id": "a3b6a920",
   "metadata": {},
   "source": [
    "Number of Females are more than the males "
   ]
  },
  {
   "cell_type": "markdown",
   "id": "1c5e7948",
   "metadata": {},
   "source": [
    "- Visualzing the different groups Or Race/Ethnicity"
   ]
  },
  {
   "cell_type": "code",
   "execution_count": null,
   "id": "fe39a540",
   "metadata": {},
   "outputs": [],
   "source": [
    "plt.rcParams['figure.figsize']=(15,9)\n",
    "plt.style.use('ggplot')\n",
    "\n",
    "sns.countplot(data['race/ethnicity'], palette = 'pink')\n",
    "plt.title('Comparison of various groups(Race.Ethnicity)', fontweight=30, fontsize=15)\n",
    "plt.xlabel('Groups')\n",
    "plt.ylabel('Count')\n",
    "plt.show();"
   ]
  },
  {
   "cell_type": "markdown",
   "id": "ec503943",
   "metadata": {},
   "source": [
    "\"Group C\" And \"Group D\" ahs the most number of counts than the other groups"
   ]
  },
  {
   "cell_type": "markdown",
   "id": "0c3bd0fe",
   "metadata": {},
   "source": [
    "- Visulaizing the different parental education levels "
   ]
  },
  {
   "cell_type": "code",
   "execution_count": null,
   "id": "fbb01d95",
   "metadata": {},
   "outputs": [],
   "source": [
    "plt.rcParams['figure.figsize'] = (15,9)\n",
    "plt.style.use('fivethirtyeight')\n",
    "\n",
    "sns.countplot(data['parental level of education'], palette = 'Blues')\n",
    "plt.title('Comparsion of Parental Eduaction', fontweight=30, fontsize=18)\n",
    "plt.xlabel(\"Educations\")\n",
    "plt.ylabel(\"Count\")\n",
    "plt.show();"
   ]
  },
  {
   "cell_type": "markdown",
   "id": "6a0d5813",
   "metadata": {},
   "source": [
    "From the above chart, most of the parental education level is some college and assocaite degree.\n",
    "\n",
    "Ranking of Parental Education Level is of as :- \n",
    "\n",
    "1. Some College \n",
    "2. Assocaiate Degree\n",
    "3. High School\n",
    "4. Some High School\n",
    "5. Bachelor's Degree\n",
    "6. Masters Degree"
   ]
  },
  {
   "cell_type": "markdown",
   "id": "555fb882",
   "metadata": {},
   "source": [
    "-- Visualizaing the different types of Lunch"
   ]
  },
  {
   "cell_type": "code",
   "execution_count": null,
   "id": "e0a156ad",
   "metadata": {},
   "outputs": [],
   "source": [
    "plt.rcParams['figure.figsize']= (15,9)\n",
    "plt.style.use('seaborn-talk')\n",
    "\n",
    "sns.countplot(data['lunch'], palette = 'PuBu')\n",
    "plt.title(\"Comparison of Different Types of Lunch\", fontweight = 30, fontsize=18)\n",
    "plt.xlabel(\"Types of Lunchs\")\n",
    "plt.ylabel(\"Count\")\n",
    "plt.show();"
   ]
  },
  {
   "cell_type": "markdown",
   "id": "3ce590aa",
   "metadata": {},
   "source": [
    "Standard Lunch Most Loved by students than the free one.\n"
   ]
  },
  {
   "cell_type": "markdown",
   "id": "369fa581",
   "metadata": {},
   "source": [
    "- Visualizing the Math Score "
   ]
  },
  {
   "cell_type": "code",
   "execution_count": null,
   "id": "2f7ffee6",
   "metadata": {},
   "outputs": [],
   "source": [
    "plt.rcParams['figure.figsize'] = (15,9)\n",
    "plt.style.use('tableau-colorblind10')\n",
    "\n",
    "sns.countplot(data['math score'], palette = 'BuPu')\n",
    "plt.title('Comparison of math score', fontweight= 30, fontsize=18)\n",
    "plt.xlabel('Score')\n",
    "plt.ylabel('Count')\n",
    "plt.xticks(rotation = 90)\n",
    "plt.show();"
   ]
  },
  {
   "cell_type": "markdown",
   "id": "8977f92c",
   "metadata": {},
   "source": [
    "- Visualizing the Reading Score "
   ]
  },
  {
   "cell_type": "code",
   "execution_count": null,
   "id": "4875bf25",
   "metadata": {},
   "outputs": [],
   "source": [
    "plt.rcParams['figure.figsize'] = (15,9)\n",
    "plt.style.use('tableau-colorblind10')\n",
    "\n",
    "sns.countplot(data['reading score'], palette = 'RdPu')\n",
    "plt.title('Comparsion of Reading Scores', fontweight=30, fontsize=18)\n",
    "plt.xlabel('Scores')\n",
    "plt.ylabel('Count')\n",
    "plt.xticks(rotation = 90)\n",
    "plt.show();"
   ]
  },
  {
   "cell_type": "markdown",
   "id": "6d626db2",
   "metadata": {},
   "source": [
    "- Visualizing the Writing Score "
   ]
  },
  {
   "cell_type": "code",
   "execution_count": null,
   "id": "af1d1186",
   "metadata": {},
   "outputs": [],
   "source": [
    "plt.rcParams['figure.figsize'] = (15,9)\n",
    "plt.style.use('tableau-colorblind10')\n",
    "\n",
    "\n",
    "sns.countplot(data['writing score'], palette = 'mako')\n",
    "plt.title('Comparsion of Writing Scores', fontweight=30, fontsize=18)\n",
    "plt.xlabel('Scores')\n",
    "plt.ylabel('Count')\n",
    "plt.xticks(rotation = 90)\n",
    "plt.show();"
   ]
  },
  {
   "cell_type": "markdown",
   "id": "e7da7a58",
   "metadata": {},
   "source": [
    "- Comparsion of Gender vs. Ethnicity "
   ]
  },
  {
   "cell_type": "code",
   "execution_count": null,
   "id": "cd959d59",
   "metadata": {},
   "outputs": [],
   "source": [
    "plt.rcParams['figure.figsize'] = (15,9)\n",
    "x=pd.crosstab(data['gender'], data['race/ethnicity'])\n",
    "x.div(x.sum(1).astype(float), axis=0).plot(kind='bar',stacked=False)\n",
    "plt.title('Comparision of Gender Vs Race.ethnicity', fontweight=30, fontsize=18)\n",
    "plt.show();"
   ]
  },
  {
   "cell_type": "markdown",
   "id": "b572596d",
   "metadata": {},
   "source": [
    "\"Group C\" and \"Group D\" has more ethinicity in both Gender than the other groups of the ethnicity."
   ]
  },
  {
   "cell_type": "markdown",
   "id": "1cb448f7",
   "metadata": {},
   "source": [
    "-Comparison of Race/ethnicity and parental level of education "
   ]
  },
  {
   "cell_type": "code",
   "execution_count": null,
   "id": "38f9b96a",
   "metadata": {},
   "outputs": [],
   "source": [
    "plt.rcParams['figure.figsize'] = (15 ,9)\n",
    "x = pd.crosstab(data['race/ethnicity'], data['parental level of education'])\n",
    "x.div(x.sum(1).astype(float), axis=0).plot(kind='bar', stacked=False)\n",
    "plt.title('Comparison of Race/Ethnicity Vs. Parental level of Education', fontweight=30, fontsize=18)\n",
    "plt.show();"
   ]
  },
  {
   "cell_type": "markdown",
   "id": "4f6875bf",
   "metadata": {},
   "source": [
    "- Master's Degree holder parent are very less in all groups.\n",
    "- Also, for the bachelor's Degree holder are less than the other groups.\n",
    "- Other, as like assocaite degree, high school, some college and some high school has the most number in all groups than the Master's and Bachelor's Degree."
   ]
  },
  {
   "cell_type": "markdown",
   "id": "66e75890",
   "metadata": {},
   "source": [
    "- Comparison of Parental degree and test course \n"
   ]
  },
  {
   "cell_type": "code",
   "execution_count": null,
   "id": "17a81a85",
   "metadata": {},
   "outputs": [],
   "source": [
    "plt.rcParams['figure.figsize'] = (15,9)\n",
    "sns.countplot(x= 'parental level of education', data = data, hue = 'test preparation course', palette = 'Blues')\n",
    "plt.title('Parental Education vs. Test Preparation Course', fontweight=30, fontsize=18)\n",
    "plt.show();"
   ]
  },
  {
   "cell_type": "markdown",
   "id": "824744ea",
   "metadata": {},
   "source": [
    "- Associate degree, high school, some college and some high school parents sent their students for the test preparation course rather than the Bachelor's And Master;s Degree holder parent."
   ]
  },
  {
   "cell_type": "markdown",
   "id": "d183e53c",
   "metadata": {},
   "source": [
    "- Comparison of race/ethnicity and test preparation course "
   ]
  },
  {
   "cell_type": "code",
   "execution_count": null,
   "id": "f29ade9f",
   "metadata": {},
   "outputs": [],
   "source": [
    "plt.rcParams['figure.figsize'] = (15,9)\n",
    "sns.countplot(x='race/ethnicity', data=data, hue='test preparation course', palette='pink')\n",
    "plt.title('Race/Ethnicity Vs. Test Preparation course', fontweight = 30, fontsize=18)\n",
    "plt.show();"
   ]
  },
  {
   "cell_type": "markdown",
   "id": "474d59e0",
   "metadata": {},
   "source": [
    "- Comparison of Parental education vs. Math score"
   ]
  },
  {
   "cell_type": "code",
   "execution_count": null,
   "id": "03683746",
   "metadata": {},
   "outputs": [],
   "source": [
    "plt.rcParams['figure.figsize'] = (15,9)\n",
    "sns.lineplot(x='parental level of education', y='math score',\n",
    "             hue='gender', style='gender', data=data)\n",
    "plt.title('Parental Education Vs. Math Scores', fontweight = 30, fontsize=18)\n",
    "plt.xlabel('Level of Eucation')\n",
    "plt.ylabel('Scores')\n",
    "plt.show();\n"
   ]
  },
  {
   "cell_type": "markdown",
   "id": "960287f4",
   "metadata": {},
   "source": [
    "Student's whose parent's having Master's Degree, the scores of though students  in maths high."
   ]
  },
  {
   "cell_type": "markdown",
   "id": "743306c9",
   "metadata": {},
   "source": [
    "- Comparison of Reading Score Vs. Parental Education "
   ]
  },
  {
   "cell_type": "code",
   "execution_count": null,
   "id": "e40673f8",
   "metadata": {},
   "outputs": [],
   "source": [
    "plt.rcParams['figure.figsize'] = (15,9)\n",
    "sns.lineplot(x= 'parental level of education', y='reading score', \n",
    "             data=data, hue='gender', style='gender')\n",
    "plt.title('Reading Score Vs. Parental Level of Education')\n",
    "plt.xlabel('Education Level')\n",
    "plt.ylabel('Scores')\n",
    "plt.show();"
   ]
  },
  {
   "cell_type": "markdown",
   "id": "33f69b71",
   "metadata": {},
   "source": [
    "Student's whose parent's having Master's Degree, the scores of though students in Reading high."
   ]
  },
  {
   "cell_type": "markdown",
   "id": "41e57aae",
   "metadata": {},
   "source": [
    "- Comparison of Writing Score Vs. Parent Eduaction "
   ]
  },
  {
   "cell_type": "code",
   "execution_count": null,
   "id": "d4979e5e",
   "metadata": {},
   "outputs": [],
   "source": [
    "plt.rcParams['figure.figsize'] = (15,9)\n",
    "sns.lineplot(x='parental level of education', y='writing score', data=data,\n",
    "             hue='gender', style='gender')\n",
    "plt.title('Writing Score Vs. Parental Level of education')\n",
    "plt.xlabel('Level of Education')\n",
    "plt.ylabel('Scores')\n",
    "plt.show();"
   ]
  },
  {
   "cell_type": "markdown",
   "id": "60dd952a",
   "metadata": {},
   "source": [
    "Student's whose parent's having Master's Degree, the scores of though students  in maths high."
   ]
  },
  {
   "cell_type": "markdown",
   "id": "9ff82e3a",
   "metadata": {},
   "source": [
    "* Check the students Whether pass or Fail In Respective Subjects "
   ]
  },
  {
   "cell_type": "code",
   "execution_count": null,
   "id": "dd033a56",
   "metadata": {},
   "outputs": [],
   "source": [
    "passmarks = 40\n",
    "\n",
    "# Creating a  new columns pass_maths, \n",
    "# tell us whether the students are pass or fail\n",
    "\n",
    "data['pass_maths'] = np.where(data['math score'] < passmarks, 'fail', 'pass')\n",
    "data['pass_maths'].value_counts().plot.pie(autopct =\"%.1f%%\" , colors=['lightblue','lightgreen'])\n",
    "\n",
    "plt.title('Pass Or Fail in Maths', fontweight=30, fontsize=18)\n",
    "plt.xlabel('Status')\n",
    "plt.ylabel('Count');"
   ]
  },
  {
   "cell_type": "code",
   "execution_count": null,
   "id": "1a32b1ba",
   "metadata": {},
   "outputs": [],
   "source": [
    "data['pass_reading'] = np.where(data['reading score']< passmarks, 'fail', 'pass')\n",
    "data['pass_reading'].value_counts().plot.pie(autopct=\"%.1f%%\", colors=['lightblue', 'red'])\n",
    "\n",
    "plt.title(\" Pass Or Fail in Reading\", fontweight = 30, fontsize=18)\n",
    "plt.xlabel(\"Status\")\n",
    "plt.ylabel(\"Count\");"
   ]
  },
  {
   "cell_type": "code",
   "execution_count": null,
   "id": "3c5ff9e2",
   "metadata": {},
   "outputs": [],
   "source": [
    "data['pass_writing'] = np.where(data['writing score'] < passmarks, 'fail', 'pass')\n",
    "\n",
    "data['pass_writing'].value_counts().plot.pie(autopct=\"%1.f%%\", colors=['lightgreen', 'lightyellow'])\n",
    "\n",
    "plt.title(\"Pass or Fail in Writing Scores\", fontweight=30, fontsize=18)\n",
    "plt.xlabel(\"Status\")\n",
    "plt.ylabel(\"Count\");"
   ]
  },
  {
   "cell_type": "markdown",
   "id": "636c449d",
   "metadata": {},
   "source": [
    "* Overall Result"
   ]
  },
  {
   "cell_type": "code",
   "execution_count": null,
   "id": "1ef8520b",
   "metadata": {},
   "outputs": [],
   "source": [
    "data['status'] = data.apply(lambda x : 'Fail' if x['pass_maths'] == 'fail' or\n",
    "                           x['pass_writing'] == 'fail' or \n",
    "                           x['pass_reading'] == 'fail'\n",
    "                           else 'pass', axis=1)\n",
    "\n",
    "data['status'].value_counts().plot.pie(autopct=\"%1.f%%\", colors=['lightgrey', 'crimson'])\n",
    "plt.title(\"OverAll Result\", fontweight=30, fontsize=18)\n",
    "plt.xlabel(\"Status\")\n",
    "plt.ylabel(\"Count\");"
   ]
  },
  {
   "cell_type": "code",
   "execution_count": null,
   "id": "a26c6d05",
   "metadata": {},
   "outputs": [],
   "source": [
    "data['total_pass'] = data['pass_maths']+data['pass_writing']+data['pass_reading']\n",
    "\n",
    "data['total_pass']"
   ]
  },
  {
   "cell_type": "code",
   "execution_count": null,
   "id": "af0b460b",
   "metadata": {},
   "outputs": [],
   "source": [
    "## Total marks of the subjects\n",
    "\n",
    "data['total_score'] = data['math score']+data['reading score']+data['writing score']\n",
    "\n",
    "data['total_score']\n",
    "\n",
    "plt.rcParams['figure.figsize'] =(15,9)\n",
    "sns.distplot(data['total_score'], color='magenta')\n",
    "plt.title(\"Comparsion of total score of all the subjects\", fontweight =30, fontsize=18)\n",
    "plt.xlabel(\"Total Marks scored by the Students\")\n",
    "plt.ylabel(\"Count\")\n",
    "plt.show();"
   ]
  },
  {
   "cell_type": "code",
   "execution_count": null,
   "id": "44a76d69",
   "metadata": {},
   "outputs": [],
   "source": [
    "## Percentage columns for the total scores scored by the students \n",
    "from math import *\n",
    "data['percentage'] = data['total_score']/3\n",
    "\n",
    "for i in range(0, 1000):\n",
    "    data['percentage'][i] = ceil(data['percentage'][i])\n",
    "    \n",
    "data['percentage']\n",
    "\n",
    "plt.rcParams['figure.figsize'] = (15,9)\n",
    "sns.distplot(data['percentage'], color= 'orange')\n",
    "plt.title(\"Comparison of percentage scored by all the students\")\n",
    "plt.xlabel(\"Percentage Scored\")\n",
    "plt.ylabel(\"Count\")\n",
    "plt.show();"
   ]
  },
  {
   "cell_type": "code",
   "execution_count": null,
   "id": "4bcfaa23",
   "metadata": {},
   "outputs": [],
   "source": [
    "## Assigning grades to the grades according to the following criteria\n",
    "\n",
    "#0-40 marks : grade E\n",
    "#41-60 marks : grade D\n",
    "#60-70 marks : graade C\n",
    "#70-80 marks : grade B\n",
    "#80-90 marks : grade A\n",
    "#90-100 marks : grade O\n",
    "\n",
    "def getgrades(percentage, status):\n",
    "    if status == 'Fail':\n",
    "        return'E'\n",
    "    if(percentage >= 90):\n",
    "        return 'O';\n",
    "    if(percentage >= 80):\n",
    "        return 'A';\n",
    "    if(percentage >= 70):\n",
    "        return 'B';\n",
    "    if(percentage >= 60):\n",
    "        return 'C';\n",
    "    if(percentage >= 4):\n",
    "        return 'D';\n",
    "    else :\n",
    "         return 'E'\n",
    "        \n",
    "data['grades']  = data.apply(lambda x: getgrades(x['percentage'], x['status']), axis = 1)\n",
    "\n",
    "data['grades'].value_counts()\n",
    "    "
   ]
  },
  {
   "cell_type": "code",
   "execution_count": null,
   "id": "c26087e0",
   "metadata": {},
   "outputs": [],
   "source": [
    "## Plotting a pie chart for the distribution of various grades amongst the students \n",
    "\n",
    "\n",
    "labels = ['Grade O', 'Grade A', 'Grade B', 'Grade C', 'Grade D', 'Grade E']\n",
    "sizes = [58,156,260,252,223,51]\n",
    "colors = ['lightyellow','orange','lightskyblue','lightcoral','lightpink','lightcyan']\n",
    "explode = (0.0001,0.0001,0.0001,0.0001,0.0001,0.0001,0.0001)\n",
    "\n",
    "\n",
    "patches, texts = plt.pie(sizes,colors=colors, shadow=True, startangle = 90)\n",
    "plt.legend(patches,labels)\n"
   ]
  },
  {
   "cell_type": "markdown",
   "id": "6c68c239",
   "metadata": {},
   "source": [
    "* Comparison Parent's Education Level and their Correspnding Grades "
   ]
  },
  {
   "cell_type": "code",
   "execution_count": null,
   "id": "9d3e1bbf",
   "metadata": {},
   "outputs": [],
   "source": [
    "plt.rcParams['figure.figsize']= (15,9)\n",
    "\n",
    "x = pd.crosstab(data['parental level of education'], data['grades'])\n",
    "color = plt.cm.copper(np.linspace(0,1,8))\n",
    "x.div(x.sum(1).astype(float), axis=0).plot(kind='line', stacked=True, color= color)\n",
    "plt.title(\"Parental Education Vs. Student's Grades\", fontweight=30, fontsize=18)\n",
    "plt.show();"
   ]
  },
  {
   "cell_type": "code",
   "execution_count": null,
   "id": "a8896c20",
   "metadata": {},
   "outputs": [],
   "source": [
    "sns.countplot(x=data['parental level of education'], data = data, hue=data['grades'])\n",
    "plt.title(\"Parental Education Vs. Grade of Students\", fontsize=18)\n",
    "plt.show();"
   ]
  },
  {
   "cell_type": "markdown",
   "id": "f0654e6f",
   "metadata": {},
   "source": [
    "* Comparing the Distribution of grades among males and females "
   ]
  },
  {
   "cell_type": "code",
   "execution_count": null,
   "id": "524a8471",
   "metadata": {},
   "outputs": [],
   "source": [
    "sns.countplot(x= data['grades'], data = data , hue = data['gender'], palette = 'cubehelix')\n",
    "plt.title('Grades Vs. Gender', fontweight=30, fontsize=18)\n",
    "plt.show()"
   ]
  },
  {
   "cell_type": "code",
   "execution_count": null,
   "id": "4cfaf157",
   "metadata": {},
   "outputs": [],
   "source": [
    "sns.countplot(x=data['status'], data =data , hue=data['gender'], palette = 'pastel')\n",
    "plt.title(\"Status Vs. Gender \", fontweight=30, fontsize=18)\n",
    "plt.xlabel(\"Gender\")\n",
    "plt.ylabel(\"Count\")\n",
    "plt.show();"
   ]
  },
  {
   "cell_type": "markdown",
   "id": "6384a72a",
   "metadata": {},
   "source": [
    "## Conclusion\n",
    "\n",
    "1. Most number Both the gender pass out in all three subjects.\n",
    "2. Girls got the higher marks than the Boys.\n",
    "3. Girls grades are higher in Grade 'o' and 'a' then the Boys.\n",
    "4. Tried variety of visualizations "
   ]
  },
  {
   "cell_type": "code",
   "execution_count": null,
   "id": "435189e0",
   "metadata": {},
   "outputs": [],
   "source": []
  }
 ],
 "metadata": {
  "kernelspec": {
   "display_name": "Python 3",
   "language": "python",
   "name": "python3"
  },
  "language_info": {
   "codemirror_mode": {
    "name": "ipython",
    "version": 3
   },
   "file_extension": ".py",
   "mimetype": "text/x-python",
   "name": "python",
   "nbconvert_exporter": "python",
   "pygments_lexer": "ipython3",
   "version": "3.8.8"
  }
 },
 "nbformat": 4,
 "nbformat_minor": 5
}
